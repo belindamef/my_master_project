{
  "cells": [
    {
      "cell_type": "raw",
      "metadata": {},
      "source": [
        "---\n",
        "title: Model validation\n",
        "format:\n",
        "  html:\n",
        "    code-fold: true\n",
        "    fig-format: png\n",
        "---"
      ],
      "id": "a00af8a9"
    },
    {
      "cell_type": "code",
      "metadata": {},
      "source": [
        "#| echo: false\n",
        "exp_label = \"exp_msc\"\n",
        "version = \"test_hr_1_test_hr_1\"\n",
        "\n",
        "import sys\n",
        "import os\n",
        "import numpy as np\n",
        "import matplotlib.pyplot as plt\n",
        "from matplotlib.path import Path\n",
        "sys.path.append(os.path.join(os.path.dirname(os.getcwd()), \"code\"))\n",
        "sys.path.append(os.path.join(os.path.dirname(os.getcwd()), \"code\", \"utilities\"))\n",
        "from utilities.very_plotter_new import PlotCustomParams\n",
        "from utilities.plot_agent_perf_giv_tau import plot_agent_perf\n",
        "from utilities.plot_param_recovery import plot_param_recov_results\n",
        "from utilities.plot_model_recovery import plot_model_recov_results\n",
        "from utilities.plot_model_estimation import plot_model_estimation_results\n",
        "plot_params = PlotCustomParams()"
      ],
      "id": "e0f7d460",
      "execution_count": null,
      "outputs": []
    },
    {
      "cell_type": "markdown",
      "metadata": {},
      "source": [
        "## Agent task performance\n"
      ],
      "id": "76c7ff74"
    },
    {
      "cell_type": "code",
      "metadata": {},
      "source": [
        "#| label: agent-task-performance\n",
        "#| fig-cap: Agent task performance\n",
        "\n",
        "plot_agent_perf(exp_label=\"exp_msc\",\n",
        "                vers=\"50parts_new\",\n",
        "                save_file=False)"
      ],
      "id": "agent-task-performance",
      "execution_count": null,
      "outputs": []
    },
    {
      "cell_type": "markdown",
      "metadata": {},
      "source": [
        "## Parameter Recovery\n"
      ],
      "id": "bb3ed5ff"
    },
    {
      "cell_type": "code",
      "metadata": {},
      "source": [
        "#| label: fig-param-recov\n",
        "#| fig-cap: Parameter recovery\n",
        "#| output: true\n",
        "\n",
        "plot_param_recov_results(exp_label=exp_label,\n",
        "                         vers=\"test_hr_1_test_hr_1\",\n",
        "                         save_file=False)"
      ],
      "id": "fig-param-recov",
      "execution_count": null,
      "outputs": []
    },
    {
      "cell_type": "markdown",
      "metadata": {},
      "source": [
        "## Model Recovery\n"
      ],
      "id": "3a44c77a"
    },
    {
      "cell_type": "code",
      "metadata": {},
      "source": [
        "#| label: fig-model-recov\n",
        "#| fig-cap: Model recovery\n",
        "#| output: true\n",
        "\n",
        "plot_model_recov_results(exp_label=exp_label,\n",
        "                         vers=\"test_parallel_1\",\n",
        "                         save_file=False)"
      ],
      "id": "fig-model-recov",
      "execution_count": null,
      "outputs": []
    },
    {
      "cell_type": "markdown",
      "metadata": {},
      "source": [
        "## Model estimation and comparison\n"
      ],
      "id": "7482614e"
    },
    {
      "cell_type": "code",
      "metadata": {},
      "source": [
        "#| label: fig-model-estimation\n",
        "#| fig-cap: Model estimation with experimental data\n",
        "#| output: true\n",
        "\n",
        "plot_model_estimation_results(exp_label=exp_label,\n",
        "                              vers=\"test_1\",\n",
        "                              save_file=False)"
      ],
      "id": "fig-model-estimation",
      "execution_count": null,
      "outputs": []
    }
  ],
  "metadata": {
    "kernelspec": {
      "name": "python3",
      "language": "python",
      "display_name": "Python 3 (ipykernel)"
    }
  },
  "nbformat": 4,
  "nbformat_minor": 5
}